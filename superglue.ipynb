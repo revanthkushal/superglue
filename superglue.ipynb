{
  "nbformat": 4,
  "nbformat_minor": 0,
  "metadata": {
    "colab": {
      "provenance": [],
      "gpuType": "T4"
    },
    "kernelspec": {
      "name": "python3",
      "display_name": "Python 3"
    },
    "language_info": {
      "name": "python"
    },
    "accelerator": "GPU"
  },
  "cells": [
    {
      "cell_type": "code",
      "execution_count": 1,
      "metadata": {
        "colab": {
          "base_uri": "https://localhost:8080/"
        },
        "id": "TcMkSB8LRpMR",
        "outputId": "7e8307ef-a22c-4154-a242-dfa25481c71f"
      },
      "outputs": [
        {
          "output_type": "stream",
          "name": "stdout",
          "text": [
            "Cloning into 'SuperGluePretrainedNetwork'...\n",
            "remote: Enumerating objects: 185, done.\u001b[K\n",
            "remote: Counting objects: 100% (1/1), done.\u001b[K\n",
            "remote: Total 185 (delta 0), reused 0 (delta 0), pack-reused 184 (from 2)\u001b[K\n",
            "Receiving objects: 100% (185/185), 118.85 MiB | 26.24 MiB/s, done.\n",
            "Resolving deltas: 100% (52/52), done.\n",
            "/content/SuperGluePretrainedNetwork\n"
          ]
        }
      ],
      "source": [
        "# Clone the repo\n",
        "!git clone https://github.com/magicleap/SuperGluePretrainedNetwork.git\n",
        "%cd SuperGluePretrainedNetwork\n",
        "\n"
      ]
    },
    {
      "cell_type": "code",
      "source": [
        "!./match_pairs.py"
      ],
      "metadata": {
        "colab": {
          "base_uri": "https://localhost:8080/"
        },
        "id": "W9MnZo8ZBXCU",
        "outputId": "516102d0-a451-4f8f-8a8f-7295b7959dba"
      },
      "execution_count": 3,
      "outputs": [
        {
          "output_type": "stream",
          "name": "stdout",
          "text": [
            "Namespace(input_pairs='assets/scannet_sample_pairs_with_gt.txt', input_dir='assets/scannet_sample_images/', output_dir='dump_match_pairs/', max_length=-1, resize=[640, 480], resize_float=False, superglue='indoor', max_keypoints=1024, keypoint_threshold=0.005, nms_radius=4, sinkhorn_iterations=20, match_threshold=0.2, viz=False, eval=False, fast_viz=False, cache=False, show_keypoints=False, viz_extension='png', opencv_display=False, shuffle=False, force_cpu=False)\n",
            "Will resize to 640x480 (WxH)\n",
            "Running inference on device \"cuda\"\n",
            "Loaded SuperPoint model\n",
            "Loaded SuperGlue model (\"indoor\" weights)\n",
            "Looking for data in directory \"assets/scannet_sample_images\"\n",
            "Will write matches to directory \"dump_match_pairs\"\n",
            "[Finished pair     0 of    15] load_image=0.059 matcher=1.332 total=1.391 sec {0.7 FPS} \n",
            "[Finished pair     1 of    15] load_image=0.045 matcher=0.963 total=1.009 sec {1.0 FPS} \n",
            "[Finished pair     2 of    15] load_image=0.036 matcher=0.710 total=0.746 sec {1.3 FPS} \n",
            "[Finished pair     3 of    15] load_image=0.029 matcher=0.524 total=0.553 sec {1.8 FPS} \n",
            "[Finished pair     4 of    15] load_image=0.024 matcher=0.391 total=0.416 sec {2.4 FPS} \n",
            "[Finished pair     5 of    15] load_image=0.021 matcher=0.297 total=0.318 sec {3.1 FPS} \n",
            "[Finished pair     6 of    15] load_image=0.019 matcher=0.233 total=0.252 sec {4.0 FPS} \n",
            "[Finished pair     7 of    15] load_image=0.020 matcher=0.187 total=0.207 sec {4.8 FPS} \n",
            "[Finished pair     8 of    15] load_image=0.018 matcher=0.152 total=0.171 sec {5.9 FPS} \n",
            "[Finished pair     9 of    15] load_image=0.017 matcher=0.130 total=0.147 sec {6.8 FPS} \n",
            "[Finished pair    10 of    15] load_image=0.016 matcher=0.114 total=0.130 sec {7.7 FPS} \n",
            "[Finished pair    11 of    15] load_image=0.014 matcher=0.099 total=0.114 sec {8.8 FPS} \n",
            "[Finished pair    12 of    15] load_image=0.014 matcher=0.092 total=0.106 sec {9.4 FPS} \n",
            "[Finished pair    13 of    15] load_image=0.014 matcher=0.090 total=0.103 sec {9.7 FPS} \n",
            "[Finished pair    14 of    15] load_image=0.014 matcher=0.084 total=0.098 sec {10.2 FPS} \n"
          ]
        }
      ]
    },
    {
      "cell_type": "code",
      "source": [
        "! ./match_pairs.py --viz"
      ],
      "metadata": {
        "colab": {
          "base_uri": "https://localhost:8080/"
        },
        "id": "F0btlUwaB21V",
        "outputId": "d9d70ef8-4f21-474b-f857-dd4504b196f3"
      },
      "execution_count": 4,
      "outputs": [
        {
          "output_type": "stream",
          "name": "stdout",
          "text": [
            "Namespace(input_pairs='assets/scannet_sample_pairs_with_gt.txt', input_dir='assets/scannet_sample_images/', output_dir='dump_match_pairs/', max_length=-1, resize=[640, 480], resize_float=False, superglue='indoor', max_keypoints=1024, keypoint_threshold=0.005, nms_radius=4, sinkhorn_iterations=20, match_threshold=0.2, viz=True, eval=False, fast_viz=False, cache=False, show_keypoints=False, viz_extension='png', opencv_display=False, shuffle=False, force_cpu=False)\n",
            "Will resize to 640x480 (WxH)\n",
            "Running inference on device \"cuda\"\n",
            "Loaded SuperPoint model\n",
            "Loaded SuperGlue model (\"indoor\" weights)\n",
            "Looking for data in directory \"assets/scannet_sample_images\"\n",
            "Will write matches to directory \"dump_match_pairs\"\n",
            "Will write visualization images to directory \"dump_match_pairs\"\n",
            "[Finished pair     0 of    15] load_image=0.011 matcher=0.506 viz_match=0.611 total=1.129 sec {0.9 FPS} \n",
            "[Finished pair     1 of    15] load_image=0.012 matcher=0.386 viz_match=0.615 total=1.012 sec {1.0 FPS} \n",
            "[Finished pair     2 of    15] load_image=0.013 matcher=0.300 viz_match=0.591 total=0.904 sec {1.1 FPS} \n",
            "[Finished pair     3 of    15] load_image=0.013 matcher=0.241 viz_match=0.576 total=0.829 sec {1.2 FPS} \n",
            "[Finished pair     4 of    15] load_image=0.013 matcher=0.195 viz_match=0.567 total=0.775 sec {1.3 FPS} \n",
            "[Finished pair     5 of    15] load_image=0.013 matcher=0.164 viz_match=0.560 total=0.737 sec {1.4 FPS} \n",
            "[Finished pair     6 of    15] load_image=0.013 matcher=0.144 viz_match=0.581 total=0.738 sec {1.4 FPS} \n",
            "[Finished pair     7 of    15] load_image=0.015 matcher=0.130 viz_match=0.583 total=0.727 sec {1.4 FPS} \n",
            "[Finished pair     8 of    15] load_image=0.017 matcher=0.126 viz_match=0.661 total=0.804 sec {1.2 FPS} \n",
            "[Finished pair     9 of    15] load_image=0.018 matcher=0.123 viz_match=0.713 total=0.854 sec {1.2 FPS} \n",
            "[Finished pair    10 of    15] load_image=0.018 matcher=0.118 viz_match=0.676 total=0.812 sec {1.2 FPS} \n",
            "[Finished pair    11 of    15] load_image=0.017 matcher=0.111 viz_match=0.630 total=0.758 sec {1.3 FPS} \n",
            "[Finished pair    12 of    15] load_image=0.016 matcher=0.108 viz_match=0.611 total=0.735 sec {1.4 FPS} \n",
            "[Finished pair    13 of    15] load_image=0.015 matcher=0.104 viz_match=0.586 total=0.704 sec {1.4 FPS} \n",
            "[Finished pair    14 of    15] load_image=0.015 matcher=0.100 viz_match=0.563 total=0.677 sec {1.5 FPS} \n"
          ]
        }
      ]
    }
  ]
}